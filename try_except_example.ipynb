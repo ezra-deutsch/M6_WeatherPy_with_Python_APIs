{
 "cells": [
  {
   "cell_type": "code",
   "execution_count": 6,
   "id": "f4fae534",
   "metadata": {},
   "outputs": [],
   "source": [
    "import requests as req\n",
    "from config import weather_api_key"
   ]
  },
  {
   "cell_type": "code",
   "execution_count": 7,
   "id": "336700f2",
   "metadata": {},
   "outputs": [
    {
     "data": {
      "text/plain": [
       "'http://api.openweathermap.org/data/2.5/weather?units=Imperial&APPID=e259ec0c2a97552a098fa00315a9a83a'"
      ]
     },
     "execution_count": 7,
     "metadata": {},
     "output_type": "execute_result"
    }
   ],
   "source": [
    "url = \"http://api.openweathermap.org/data/2.5/weather?units=Imperial&APPID=\" + weather_api_key\n",
    "url"
   ]
  },
  {
   "cell_type": "code",
   "execution_count": 8,
   "id": "f5653a02",
   "metadata": {},
   "outputs": [],
   "source": [
    "cities=['Pittsburg','Austin','New  York','Los Angeles','Seattle']"
   ]
  },
  {
   "cell_type": "code",
   "execution_count": 11,
   "id": "cd7b12fb",
   "metadata": {},
   "outputs": [
    {
     "name": "stdout",
     "output_type": "stream",
     "text": [
      "It is currently 59.9 degrees in Pittsburg\n",
      "It is currently 79.52 degrees in Austin\n",
      "KeyError received for New  York\n",
      "It is currently 65.5 degrees in Los Angeles\n",
      "It is currently 56.91 degrees in Seattle\n"
     ]
    }
   ],
   "source": [
    "for city in cities:\n",
    "    try:\n",
    "        city_url=url+'&q='+city\n",
    "        weather=req.get(city_url).json()\n",
    "        temp=weather['main']['temp']\n",
    "    except KeyError:\n",
    "        print(\"KeyError received for \"+city)\n",
    "        continue\n",
    "    print(\"It is currently \" +str(temp)+\" degrees in \"+city)\n"
   ]
  },
  {
   "cell_type": "code",
   "execution_count": null,
   "id": "764e2244",
   "metadata": {},
   "outputs": [],
   "source": []
  }
 ],
 "metadata": {
  "kernelspec": {
   "display_name": "PythonData",
   "language": "python",
   "name": "pythondata"
  },
  "language_info": {
   "codemirror_mode": {
    "name": "ipython",
    "version": 3
   },
   "file_extension": ".py",
   "mimetype": "text/x-python",
   "name": "python",
   "nbconvert_exporter": "python",
   "pygments_lexer": "ipython3",
   "version": "3.7.10"
  }
 },
 "nbformat": 4,
 "nbformat_minor": 5
}
