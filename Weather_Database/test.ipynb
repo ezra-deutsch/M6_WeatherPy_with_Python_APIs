{
 "cells": [
  {
   "cell_type": "code",
   "execution_count": 1,
   "id": "20582283",
   "metadata": {},
   "outputs": [],
   "source": [
    "#6.1.4\n",
    "# Import the dependencies.\n",
    "import pandas as pd\n",
    "import matplotlib.pyplot as plt\n",
    "import numpy as np\n",
    "\n",
    "#4. Get the nearest city using the citipy module.\n",
    "#6.1.5\n",
    "# Use the citipy module to determine city based on latitude and longitude.\n",
    "from citipy import citipy"
   ]
  },
  {
   "cell_type": "code",
   "execution_count": 2,
   "id": "bb7c2688",
   "metadata": {},
   "outputs": [
    {
     "data": {
      "text/plain": [
       "<zip at 0x237e93c3cc8>"
      ]
     },
     "execution_count": 2,
     "metadata": {},
     "output_type": "execute_result"
    }
   ],
   "source": [
    "#3. Create a new set of 2,000 random latitudes and longitudes.\n",
    "#6.1.5\n",
    "lats = np.random.uniform(-90.000,90.000, size=50)\n",
    "lngs = np.random.uniform(-180.000,180.000, size=50)\n",
    "lat_lngs=zip(lats,lngs)\n",
    "lat_lngs"
   ]
  },
  {
   "cell_type": "code",
   "execution_count": 3,
   "id": "b6bcca1f",
   "metadata": {},
   "outputs": [
    {
     "data": {
      "text/plain": [
       "[(-79.32584679854368, -90.5049196551216),\n",
       " (56.557171636199286, -162.1574016965162),\n",
       " (11.321053583991329, 155.50406056607),\n",
       " (-52.06534184022047, -176.6414470942926),\n",
       " (48.12603165424741, 101.34251242040227),\n",
       " (-4.938948409434701, -49.09415501381386),\n",
       " (-60.15201410637461, 4.214344976073988),\n",
       " (-34.600600454771, -94.07876439022229),\n",
       " (-26.3783730657481, -159.4126487692036),\n",
       " (89.52500265818307, -156.4471650775602),\n",
       " (8.308473935368482, -163.68942892728336),\n",
       " (-43.68668627287583, 74.00365995854028),\n",
       " (-42.77174296832527, -82.22469541697937),\n",
       " (-81.7427868059959, -168.67006088476126),\n",
       " (-37.88894110218933, 135.74489581594372),\n",
       " (-84.53481960439652, -156.97678595195717),\n",
       " (64.90961756723667, 28.691761327240755),\n",
       " (-58.47927036283997, -158.034198369413),\n",
       " (-28.608225100887438, 86.67545019760729),\n",
       " (-87.59121625008413, 94.59647028945426),\n",
       " (5.50744191420182, -35.339437357223545),\n",
       " (-17.759824423143087, 60.18720217307893),\n",
       " (-37.044345895277814, -128.25464876222938),\n",
       " (-67.81305889613324, -66.06016640869075),\n",
       " (-11.151684675415979, 93.64689932984055),\n",
       " (-89.9936495671764, -113.7634772472151),\n",
       " (55.211161324775475, -70.6714502289326),\n",
       " (-35.532297348817494, 78.62800530435578),\n",
       " (-21.074537617601507, -132.46307408485512),\n",
       " (34.028888727035124, -75.9383235518651),\n",
       " (5.034428962907157, 43.93202021519414),\n",
       " (-30.70935113383377, 80.93694178860915),\n",
       " (-1.046819598081001, -125.22623046994181),\n",
       " (17.436056542197917, -111.11439095199357),\n",
       " (-64.11885971923272, -117.79678119453386),\n",
       " (-30.976200597873586, -60.37021726947518),\n",
       " (-73.77713030123914, -144.9844044356676),\n",
       " (33.90083125755605, 162.49776844358138),\n",
       " (75.63094057857353, -145.4274831161174),\n",
       " (-70.87256843073148, -157.5103986318555),\n",
       " (40.24140238081375, -75.1993477769976),\n",
       " (17.024445773388365, 61.25115323613784),\n",
       " (13.585550890039073, 115.20826193503257),\n",
       " (89.58340880817005, -7.640499730879355),\n",
       " (-37.92848206248738, -148.30896839067478),\n",
       " (-8.759256668771101, -123.46231308981618),\n",
       " (-80.25641176849436, 141.4476649157084),\n",
       " (-73.88796604133259, -8.212223605611428),\n",
       " (-69.63005960965751, 154.08404792835955),\n",
       " (-80.63957413745523, -150.51001339788604)]"
      ]
     },
     "execution_count": 3,
     "metadata": {},
     "output_type": "execute_result"
    }
   ],
   "source": [
    "#6.1.5\n",
    "# Add the latitudes and longitudes to a list.\n",
    "coordinates = list(lat_lngs)\n",
    "coordinates"
   ]
  },
  {
   "cell_type": "code",
   "execution_count": 4,
   "id": "c054a134",
   "metadata": {},
   "outputs": [
    {
     "data": {
      "text/plain": [
       "39"
      ]
     },
     "execution_count": 4,
     "metadata": {},
     "output_type": "execute_result"
    }
   ],
   "source": [
    "#6.1.5\n",
    "# Create a list for holding the cities.\n",
    "cities = []\n",
    "# Identify the nearest city for each latitude and longitude combination.\n",
    "for coordinate in coordinates:\n",
    "    city = citipy.nearest_city(coordinate[0], coordinate[1]).city_name\n",
    "\n",
    "    # If the city is unique, then we will add it to the cities list.\n",
    "    if city not in cities:\n",
    "        cities.append(city)\n",
    "# Print the city count to confirm sufficient count.\n",
    "len(cities)"
   ]
  },
  {
   "cell_type": "code",
   "execution_count": 5,
   "id": "873dd4d2",
   "metadata": {},
   "outputs": [],
   "source": [
    "#5. Perform an API call with the OpenWeatherMap.\n",
    "#6.2.6\n",
    "#Import dependencies (requests)\n",
    "import requests\n",
    "# Import the datetime module from the datetime library.\n",
    "from datetime import datetime\n",
    "\n",
    "#import the API key\n",
    "from config import weather_api_key\n",
    "\n",
    "# Starting URL for Weather Map API Call.\n",
    "url = \"http://api.openweathermap.org/data/2.5/weather?units=Imperial&APPID=\" + weather_api_key"
   ]
  },
  {
   "cell_type": "code",
   "execution_count": 6,
   "id": "634623f1",
   "metadata": {},
   "outputs": [],
   "source": [
    "# city_url = url + \"&q=\" + city.replace(\" \",\"+\")\n",
    "# city_weather = requests.get(city_url).json()\n",
    "# print(city_url)\n",
    "# print(city_weather)"
   ]
  },
  {
   "cell_type": "code",
   "execution_count": 7,
   "id": "448a45bf",
   "metadata": {},
   "outputs": [
    {
     "name": "stdout",
     "output_type": "stream",
     "text": [
      "Beginning Data Retrieval     \n",
      "-----------------------------\n",
      "Processing Record 1 of Set 1 | punta arenas\n",
      "City not found. Skipping...\n",
      "Processing Record 2 of Set 1 | bethel\n",
      "City not found. Skipping...\n",
      "Processing Record 3 of Set 1 | kavieng\n",
      "City not found. Skipping...\n",
      "Processing Record 4 of Set 1 | vaini\n",
      "City not found. Skipping...\n",
      "Processing Record 5 of Set 1 | moron\n",
      "City not found. Skipping...\n",
      "Processing Record 6 of Set 1 | itupiranga\n",
      "City not found. Skipping...\n",
      "Processing Record 7 of Set 1 | hermanus\n",
      "City not found. Skipping...\n",
      "Processing Record 8 of Set 1 | lebu\n",
      "City not found. Skipping...\n",
      "Processing Record 9 of Set 1 | avarua\n",
      "City not found. Skipping...\n",
      "Processing Record 10 of Set 1 | barrow\n",
      "City not found. Skipping...\n",
      "Processing Record 11 of Set 1 | makakilo city\n",
      "City not found. Skipping...\n",
      "Processing Record 12 of Set 1 | mahebourg\n",
      "City not found. Skipping...\n",
      "Processing Record 13 of Set 1 | castro\n",
      "City not found. Skipping...\n",
      "Processing Record 14 of Set 1 | port lincoln\n",
      "City not found. Skipping...\n",
      "Processing Record 15 of Set 1 | mataura\n",
      "City not found. Skipping...\n",
      "Processing Record 16 of Set 1 | kuusamo\n",
      "City not found. Skipping...\n",
      "Processing Record 17 of Set 1 | carnarvon\n",
      "City not found. Skipping...\n",
      "Processing Record 18 of Set 1 | albany\n",
      "City not found. Skipping...\n",
      "Processing Record 19 of Set 1 | itarema\n",
      "City not found. Skipping...\n",
      "Processing Record 20 of Set 1 | grand gaube\n",
      "City not found. Skipping...\n",
      "Processing Record 21 of Set 1 | rikitea\n",
      "City not found. Skipping...\n",
      "Processing Record 22 of Set 1 | ushuaia\n",
      "City not found. Skipping...\n",
      "Processing Record 23 of Set 1 | bengkulu\n",
      "City not found. Skipping...\n",
      "Processing Record 24 of Set 1 | port-cartier\n",
      "City not found. Skipping...\n",
      "Processing Record 25 of Set 1 | bambous virieux\n",
      "City not found. Skipping...\n",
      "Processing Record 26 of Set 1 | havelock\n",
      "City not found. Skipping...\n",
      "Processing Record 27 of Set 1 | xuddur\n",
      "City not found. Skipping...\n",
      "Processing Record 28 of Set 1 | atuona\n",
      "City not found. Skipping...\n",
      "Processing Record 29 of Set 1 | cabo san lucas\n",
      "City not found. Skipping...\n",
      "Processing Record 30 of Set 1 | santa fe\n",
      "City not found. Skipping...\n",
      "Processing Record 31 of Set 1 | severo-kurilsk\n",
      "City not found. Skipping...\n",
      "Processing Record 32 of Set 1 | college\n",
      "City not found. Skipping...\n",
      "Processing Record 33 of Set 1 | lansdale\n",
      "City not found. Skipping...\n",
      "Processing Record 34 of Set 1 | sur\n",
      "City not found. Skipping...\n",
      "Processing Record 35 of Set 1 | bacuit\n",
      "City not found. Skipping...\n",
      "Processing Record 36 of Set 1 | illoqqortoormiut\n",
      "City not found. Skipping...\n",
      "Processing Record 37 of Set 1 | hobart\n",
      "City not found. Skipping...\n",
      "Processing Record 38 of Set 1 | cape town\n",
      "City not found. Skipping...\n",
      "Processing Record 39 of Set 1 | bluff\n",
      "City not found. Skipping...\n",
      "-----------------------------\n",
      "Data Retrieval Complete      \n",
      "-----------------------------\n"
     ]
    }
   ],
   "source": [
    "#6.2.6\n",
    "# Create an empty list to hold the weather data.\n",
    "city_data = []\n",
    "# Print the beginning of the logging.\n",
    "print(\"Beginning Data Retrieval     \")\n",
    "print(\"-----------------------------\")\n",
    "\n",
    "# Create counters.\n",
    "record_count = 1\n",
    "set_count = 1\n",
    "\n",
    "#Loop through all the cities in the list.\n",
    "for i, city in enumerate(cities):\n",
    "    # Group cities in sets of 50 for logging purposes.\n",
    "    if (i % 50 == 0 and i >= 50):\n",
    "        set_count += 1\n",
    "        record_count = 1\n",
    "    # Create endpoint URL with each city.\n",
    "    city_url = url + \"&q=\" + city.replace(\" \",\"+\")\n",
    "    # Log the URL, record, and set numbers and the city.\n",
    "    print(f\"Processing Record {record_count} of Set {set_count} | {city}\")\n",
    "    # Add 1 to the record count.\n",
    "    record_count += 1\n",
    "#6.2.6\n",
    "# Run an API request for each of the cities.\n",
    "    try:\n",
    "        # Parse the JSON and retrieve data.\n",
    "        city_weather = requests.get(city_url).json()\n",
    "        # Parse out the needed data.\n",
    "        city_lat = city_weather[\"coord\"][\"lat\"]\n",
    "        city_lng = city_weather[\"coord\"][\"lon\"]\n",
    "        city_max_temp = city_weather[\"main\"][\"temp_max\"]\n",
    "        city_humidity = city_weather[\"main\"][\"humidity\"]\n",
    "        city_clouds = city_weather[\"clouds\"][\"all\"]\n",
    "        city_wind = city_weather[\"wind\"][\"speed\"]\n",
    "        city_country = city_weather[\"sys\"][\"country\"]\n",
    "        city_weather_desc = city_weather[\"weather\"][\"description\"]\n",
    "        # Convert the date to ISO standard.\n",
    "        city_date = datetime.utcfromtimestamp(city_weather[\"dt\"]).strftime('%Y-%m-%d %H:%M:%S')\n",
    "        # Append the city information into city_data list.\n",
    "        city_data.append({\"City\": city.title(),\n",
    "                          \"Lat\": city_lat,\n",
    "                          \"Lng\": city_lng,\n",
    "                          \"Max Temp\": city_max_temp,\n",
    "                          \"Humidity\": city_humidity,\n",
    "                          \"Cloudiness\": city_clouds,\n",
    "                          \"Wind Speed\": city_wind,\n",
    "                          \"Country\": city_country,\n",
    "                          \"Weather Description\": city_weather_desc,\n",
    "                          \"Date\": city_date})\n",
    "        \n",
    "# If an error is experienced, skip the city.\n",
    "    except:\n",
    "        print(\"City not found. Skipping...\")\n",
    "        pass\n",
    "# Indicate that Data Loading is complete.\n",
    "print(\"-----------------------------\")\n",
    "print(\"Data Retrieval Complete      \")\n",
    "print(\"-----------------------------\")"
   ]
  },
  {
   "cell_type": "code",
   "execution_count": 8,
   "id": "38e78daa",
   "metadata": {},
   "outputs": [
    {
     "data": {
      "text/html": [
       "<div>\n",
       "<style scoped>\n",
       "    .dataframe tbody tr th:only-of-type {\n",
       "        vertical-align: middle;\n",
       "    }\n",
       "\n",
       "    .dataframe tbody tr th {\n",
       "        vertical-align: top;\n",
       "    }\n",
       "\n",
       "    .dataframe thead th {\n",
       "        text-align: right;\n",
       "    }\n",
       "</style>\n",
       "<table border=\"1\" class=\"dataframe\">\n",
       "  <thead>\n",
       "    <tr style=\"text-align: right;\">\n",
       "      <th></th>\n",
       "    </tr>\n",
       "  </thead>\n",
       "  <tbody>\n",
       "  </tbody>\n",
       "</table>\n",
       "</div>"
      ],
      "text/plain": [
       "Empty DataFrame\n",
       "Columns: []\n",
       "Index: []"
      ]
     },
     "execution_count": 8,
     "metadata": {},
     "output_type": "execute_result"
    }
   ],
   "source": [
    "#7. Add the data to a new DataFrame.\n",
    "#6.2.7\n",
    "# Convert the array of dictionaries to a Pandas DataFrame.\n",
    "city_data_df = pd.DataFrame(city_data)\n",
    "city_data_df.head(10)"
   ]
  }
 ],
 "metadata": {
  "kernelspec": {
   "display_name": "PythonData",
   "language": "python",
   "name": "pythondata"
  },
  "language_info": {
   "codemirror_mode": {
    "name": "ipython",
    "version": 3
   },
   "file_extension": ".py",
   "mimetype": "text/x-python",
   "name": "python",
   "nbconvert_exporter": "python",
   "pygments_lexer": "ipython3",
   "version": "3.7.10"
  }
 },
 "nbformat": 4,
 "nbformat_minor": 5
}
